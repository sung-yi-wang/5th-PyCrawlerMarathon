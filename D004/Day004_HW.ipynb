{
 "cells": [
  {
   "cell_type": "markdown",
   "metadata": {},
   "source": [
    "# API 資料串接 - 以 Dcard API 實作範例\n",
    "\n",
    "* 了解 Dcard API 使用方式與回傳內容\n",
    "* 撰寫程式存取 API 且解析 JSON 格式資料\n"
   ]
  },
  {
   "cell_type": "markdown",
   "metadata": {},
   "source": [
    "## 作業目標\n",
    "\n",
    "* 請利用 API: https://www.dcard.tw/_api/forums/pet/posts?popular=true 回答下列問題：\n",
    "\n",
    "1. 這個 API 一次會回傳幾筆資料？每一筆資料包含哪些欄位？\n",
    "2. 取出每一筆資料的「標題」、「貼文時間」、「留言人數」、「按讚人數」\n",
    "3. 計算熱門/非熱門文章的「平均留言人數」與「平均按讚人數」"
   ]
  },
  {
   "cell_type": "code",
   "execution_count": 16,
   "metadata": {},
   "outputs": [
    {
     "name": "stdout",
     "output_type": "stream",
     "text": [
      "30\n"
     ]
    },
    {
     "data": {
      "text/plain": [
       "dict_keys(['id', 'title', 'excerpt', 'anonymousSchool', 'anonymousDepartment', 'pinned', 'forumId', 'replyId', 'createdAt', 'updatedAt', 'commentCount', 'likeCount', 'withNickname', 'tags', 'topics', 'meta', 'forumName', 'forumAlias', 'nsfw', 'gender', 'school', 'department', 'replyTitle', 'mediaMeta', 'reactions', 'hidden', 'customStyle', 'isSuspiciousAccount', 'isModerator', 'layout', 'pinnedType', 'pinnedPriority', 'spoilerAlert', 'isSelectedPost', 'unsafe', 'totalCommentCount', 'withImages', 'withVideos', 'media', 'reportReasonText', 'supportedReactions', 'excerptComments', 'edited', 'collectionCount', 'postAvatar', 'activityAvatar', 'verifiedBadge', 'memberType'])"
      ]
     },
     "execution_count": 16,
     "metadata": {},
     "output_type": "execute_result"
    }
   ],
   "source": [
    "# 1. 這個 API 一次會回傳幾筆資料？每一筆資料包含哪些欄位？\n",
    "\n",
    "import requests\n",
    "import json\n",
    "\n",
    "r = requests.get('https://www.dcard.tw/_api/forums/job/posts?popular=true')\n",
    "posts = json.loads(r.text)\n",
    "\n",
    "print(len(posts))\n",
    "posts[0].keys()"
   ]
  },
  {
   "cell_type": "code",
   "execution_count": 15,
   "metadata": {},
   "outputs": [
    {
     "name": "stdout",
     "output_type": "stream",
     "text": [
      "<請先點我> 工作板＆實習、打工職缺刊登說明 2017-01-01T06:27:39.650Z 58 850\n",
      "工作停滯期，是時候來個打工換宿了 2022-02-21T21:52:02.924Z 16 192\n",
      "終於離開全聯了 2022-02-21T15:08:40.168Z 43 172\n",
      "文組新鮮人真的可以嘗試非文組工作 2022-02-22T07:36:53.545Z 19 99\n",
      "離開舒適圈 花7個月轉職的微心得 2022-02-22T08:15:04.712Z 9 90\n",
      "是否要轉職 還是留在原工作? 2022-02-22T01:59:34.838Z 4 58\n",
      "到底為何要填！！！ 2022-02-22T13:46:10.642Z 23 50\n",
      "無意間聽到大老闆要資遣我主管 2022-02-22T12:26:24.809Z 18 32\n",
      "朋友跟我同時提離職，我要怎麼解釋 2022-02-22T07:27:06.267Z 14 32\n",
      "104上的薪水 2022-02-22T05:41:40.615Z 19 31\n",
      "待業、回覆與等待offer都好為難啊 2022-02-22T10:42:12.827Z 17 25\n",
      "新竹的薪資真的有那麼高嗎? 2022-02-22T07:12:01.315Z 26 17\n",
      "最近談醫學系沒提到的事 2022-02-21T21:45:20.000Z 12 16\n",
      "有人最近年後離職的嗎～ 2022-02-22T05:09:14.066Z 7 15\n",
      "面試公司打來 主管大讚超雷員工 2022-02-22T17:32:37.295Z 4 12\n",
      "應屆畢業的各位 大家都還好嗎 2022-02-21T16:20:54.370Z 8 12\n",
      "為什麼身邊年輕族群朋友對保險那麼排斥 2022-02-21T16:04:17.547Z 9 11\n",
      "兩份工作 2022-02-21T23:20:01.699Z 8 10\n",
      "國民年金繳了兩年怎麼辦😱😱😱 2022-02-22T02:15:23.475Z 6 9\n",
      "你們目前待業多久了 2022-02-22T12:25:44.013Z 13 8\n",
      "工作第二天想離職 2022-02-22T04:20:30.845Z 7 8\n",
      "有學歷津貼的公司多嗎 2022-02-22T03:54:42.319Z 23 8\n",
      "全聯的小小員工 2022-02-21T14:54:36.067Z 2 8\n",
      "公司同事穿的太暴露該怎麼辦 2022-02-22T03:30:38.037Z 12 7\n",
      "牙醫診所拖欠工讀生薪水 2022-02-22T16:59:30.407Z 6 6\n",
      "中高年齡建議的工作 2022-02-22T16:47:57.829Z 7 6\n",
      "社交恐懼症 第一天上班 2022-02-22T14:17:09.002Z 7 6\n",
      "書記官選對法官，別怪我沒提醒 2022-02-22T09:43:25.979Z 1 6\n",
      "台積電offer 2022-02-22T04:35:50.126Z 19 6\n",
      "公司人力不足叫我取消打疫苗？ 2022-02-21T14:59:33.089Z 2 6\n"
     ]
    }
   ],
   "source": [
    "# 2. 取出每一筆資料的「標題」、「貼文時間」、「留言人數」、「按讚人數」\n",
    "\n",
    "for post in posts:\n",
    "    print(post['title'], post['createdAt'], post['commentCount'], post['likeCount'])"
   ]
  },
  {
   "cell_type": "code",
   "execution_count": 17,
   "metadata": {},
   "outputs": [
    {
     "name": "stdout",
     "output_type": "stream",
     "text": [
      "13.966666666666667 60.266666666666666\n",
      "1.5 1.3\n"
     ]
    }
   ],
   "source": [
    "# 3. 計算熱門/非熱門文章的「平均留言人數」與「平均按讚人數」\n",
    "\n",
    "commentCountTotal = 0\n",
    "likeCountTotal = 0\n",
    "for post in posts:\n",
    "    commentCountTotal += post['commentCount']\n",
    "    likeCountTotal += post['likeCount']\n",
    "\n",
    "print(commentCountTotal / len(posts), likeCountTotal / len(posts))\n",
    "\n",
    "r = requests.get('https://www.dcard.tw/_api/forums/job/posts?popular=false')\n",
    "posts = json.loads(r.text)\n",
    "\n",
    "commentCountTotal = 0\n",
    "likeCountTotal = 0\n",
    "for post in posts:\n",
    "    commentCountTotal += post['commentCount']\n",
    "    likeCountTotal += post['likeCount']\n",
    "\n",
    "print(commentCountTotal / len(posts), likeCountTotal / len(posts))"
   ]
  },
  {
   "cell_type": "code",
   "execution_count": null,
   "metadata": {},
   "outputs": [],
   "source": []
  }
 ],
 "metadata": {
  "kernelspec": {
   "display_name": "Python 3 (ipykernel)",
   "language": "python",
   "name": "python3"
  },
  "language_info": {
   "codemirror_mode": {
    "name": "ipython",
    "version": 3
   },
   "file_extension": ".py",
   "mimetype": "text/x-python",
   "name": "python",
   "nbconvert_exporter": "python",
   "pygments_lexer": "ipython3",
   "version": "3.9.10"
  }
 },
 "nbformat": 4,
 "nbformat_minor": 2
}
