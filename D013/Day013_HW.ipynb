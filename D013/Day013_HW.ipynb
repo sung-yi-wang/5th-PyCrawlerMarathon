{
 "cells": [
  {
   "cell_type": "markdown",
   "metadata": {},
   "source": [
    "# PTT 網路爬蟲實作練習\n",
    "\n",
    "\n",
    "* 能夠利用 Request + BeatifulSour 撰寫爬蟲，並存放到合適的資料結構\n"
   ]
  },
  {
   "cell_type": "markdown",
   "metadata": {},
   "source": [
    "## 作業目標\n",
    "\n",
    "根據範例 ，完成以下問題：\n",
    "\n",
    "* ① 印出最新文章的「作者」「標題」「時間」\n",
    "* ② 印出第一頁所有文章的「作者」「標題」「時間」\n"
   ]
  },
  {
   "cell_type": "markdown",
   "metadata": {},
   "source": [
    "### ① 印出最新文章的「作者」「標題」「時間」"
   ]
  },
  {
   "cell_type": "code",
   "execution_count": null,
   "metadata": {},
   "outputs": [
    {
     "name": "stdout",
     "output_type": "stream",
     "text": [
      "[BOX ] Grizzlies 116:111 Nets 數據\n",
      "\n",
      "[BOX ] Jazz 110:109 Thunder 數據\n",
      "\n",
      "[討論] LBJ應該就是之後的「上古神獸」\n",
      "作者: peoplemore (兩百萬伏特的熱情)\n",
      "\n",
      "[花邊] 球探談THT：若他在擺爛隊可以場均20分\n",
      "作者: laptic (靜夜聖林彼岸花)\n",
      "\n",
      "[花邊] 丁威迪發長文：我遭遇過更壞的傷病，我會\n",
      "作者: KyrieIrving1 (King of New York)\n",
      "\n",
      "[花邊] Ingram:我的偶像一直是KD，傳球打控衛\n",
      "作者: fack3170 (法克)\n",
      "\n",
      "[BOX ] Rockets 111:124 Nuggets 數據\n",
      "\n",
      "[外絮] DeRozan講暴龍:那時就是打不過那媽惹發科\n",
      "作者: pneumo (超☆冒險蓋)\n",
      "\n",
      "[情報] Jokic 成為自張伯倫以來首位傳18助攻中鋒\n",
      "作者: thnlkj0665 (灰色地帶)\n",
      "\n",
      "[BOX ] Blazers 115:107 Lakers 數據\n"
     ]
    }
   ],
   "source": [
    "import requests\n",
    "from bs4 import BeautifulSoup\n",
    "\n",
    "url = 'https://www.ptt.cc/bbs/NBA/index.html'\n",
    "r = requests.get(url)\n",
    "\n",
    "soup = BeautifulSoup(r.text, \"html5lib\")\n",
    "\n",
    "for d in soup.find_all(class_=\"title\"):\n",
    "    print(d.text.replace('\\t', '').replace('\\n', ''))\n",
    "    try:\n",
    "        r = BeautifulSoup(requests.get('https://www.ptt.cc'+d.find('a')['href']).text, \"html5lib\")\n",
    "        print('作者: ' + r.find(class_='article-meta-value').text)\n",
    "    except:\n",
    "        continue\n",
    "    finally:\n",
    "        print()"
   ]
  },
  {
   "cell_type": "markdown",
   "metadata": {},
   "source": [
    "### ② 印出第一頁所有文章的「作者」「標題」「時間」"
   ]
  },
  {
   "cell_type": "code",
   "execution_count": null,
   "metadata": {},
   "outputs": [],
   "source": [
    "'''\n",
    "Your Code\n",
    "'''"
   ]
  },
  {
   "cell_type": "markdown",
   "metadata": {},
   "source": [
    "### ③ 試著爬爬看其他版的文章"
   ]
  },
  {
   "cell_type": "code",
   "execution_count": null,
   "metadata": {},
   "outputs": [],
   "source": [
    "'''\n",
    "Your Code\n",
    "'''"
   ]
  }
 ],
 "metadata": {
  "kernelspec": {
   "display_name": "Python 3",
   "language": "python",
   "name": "python3"
  },
  "language_info": {
   "codemirror_mode": {
    "name": "ipython",
    "version": 3
   },
   "file_extension": ".py",
   "mimetype": "text/x-python",
   "name": "python",
   "nbconvert_exporter": "python",
   "pygments_lexer": "ipython3",
   "version": "3.9.0"
  }
 },
 "nbformat": 4,
 "nbformat_minor": 2
}
