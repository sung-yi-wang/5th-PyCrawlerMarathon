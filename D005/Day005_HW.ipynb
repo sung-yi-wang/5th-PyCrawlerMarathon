{
 "cells": [
  {
   "cell_type": "markdown",
   "metadata": {},
   "source": [
    "# API 資料串接 - 以 Dcard API 實作範例\n",
    "\n",
    "* 了解 Dcard API 使用方式與回傳內容\n",
    "* 撰寫程式存取 API 且解析 JSON 格式資料\n"
   ]
  },
  {
   "cell_type": "markdown",
   "metadata": {},
   "source": [
    "## 作業目標\n",
    "\n",
    "* 請利用 API: https://www.dcard.tw/_api/forums/pet/posts?popular=true 回答下列問題：\n",
    "\n",
    "1. 這個 API 一次會回傳幾筆資料？每一筆資料包含哪些欄位？\n",
    "2. 取出每一筆資料的「標題」、「貼文時間」、「留言人數」、「按讚人數」\n",
    "3. 計算熱門/非熱門文章的「平均留言人數」與「平均按讚人數」"
   ]
  },
  {
   "cell_type": "code",
   "execution_count": 1,
   "metadata": {},
   "outputs": [
    {
     "name": "stdout",
     "output_type": "stream",
     "text": [
      "30\n"
     ]
    },
    {
     "data": {
      "text/plain": [
       "dict_keys(['id', 'title', 'excerpt', 'anonymousSchool', 'anonymousDepartment', 'pinned', 'forumId', 'replyId', 'createdAt', 'updatedAt', 'commentCount', 'likeCount', 'withNickname', 'tags', 'topics', 'meta', 'forumName', 'forumAlias', 'nsfw', 'gender', 'school', 'replyTitle', 'mediaMeta', 'reactions', 'hidden', 'customStyle', 'isSuspiciousAccount', 'isModerator', 'layout', 'spoilerAlert', 'withImages', 'withVideos', 'media', 'reportReasonText', 'excerptComments', 'postAvatar', 'verifiedBadge'])"
      ]
     },
     "execution_count": 1,
     "metadata": {},
     "output_type": "execute_result"
    }
   ],
   "source": [
    "# 1. 這個 API 一次會回傳幾筆資料？每一筆資料包含哪些欄位？\n",
    "\n",
    "import requests\n",
    "import json\n",
    "\n",
    "r = requests.get('https://www.dcard.tw/_api/forums/pet/posts?popular=true')\n",
    "posts = json.loads(r.text)\n",
    "\n",
    "print(len(posts))\n",
    "posts[0].keys()"
   ]
  },
  {
   "cell_type": "code",
   "execution_count": 2,
   "metadata": {},
   "outputs": [
    {
     "name": "stdout",
     "output_type": "stream",
     "text": [
      "怎麼會有人丟掉這麼口愛的貓貓 2020-12-21T18:26:16.177Z 41 1293\n",
      "當時我害怕極了 2020-12-21T15:01:14.954Z 31 380\n",
      "我的貓好像發現雷射筆的原理了 2020-12-22T13:15:36.709Z 16 214\n",
      "你到底多餓... 2020-12-21T14:49:19.753Z 7 189\n",
      "這樣算虐貓嗎？ 2020-12-22T02:06:58.222Z 29 155\n",
      "你連機車都怕，這樣要怎麼保護主人？ 2020-12-22T05:09:04.570Z 9 148\n",
      "我因為鄰居被貓瞪 2020-12-21T18:47:06.907Z 4 128\n",
      "貓貓可以出門!? 好羨慕 2020-12-22T09:49:06.723Z 12 95\n",
      "福寶，我等你回來 2020-12-22T09:10:57.528Z 3 80\n",
      "阿⋯忘記收舌頭了 2020-12-22T06:33:17.876Z 7 75\n",
      "貓咪居然有血型？ 2020-12-22T10:21:35.093Z 5 41\n",
      "太極貓的相處之道 2020-12-21T15:02:47.240Z 6 28\n",
      "英鬥各種睡 2020-12-22T04:30:26.797Z 4 20\n",
      "圖多）為什麼我們家廢柴都不會笑？？？ 2020-12-22T16:16:03.058Z 0 18\n",
      "學狐朦的貓（？） 2020-12-21T23:57:49.126Z 2 17\n",
      "貨車司機未將貓咪關籠遭拖行致死 飼主懊悔還要吃罰單 2020-12-22T14:43:54.652Z 1 16\n",
      "#協尋 #台中 寶貝蜥蜴失蹤了😭 2020-12-22T07:26:16.677Z 7 16\n",
      "新兔員初次報到～ 2020-12-21T17:02:17.176Z 2 15\n",
      "你在看我嗎 2020-12-21T19:09:14.307Z 1 14\n",
      "浪浪 2020-12-22T16:55:34.186Z 0 13\n",
      "貓咪一起報氣象 超可愛(*´∀`)~♥ 2020-12-22T13:44:50.199Z 3 13\n",
      "意外捕捉敲可愛的貓貓(⁎⁍̴̛ᴗ⁍̴̛⁎) 2020-12-21T15:21:04.229Z 3 13\n",
      "貓咪耳疥請問 2020-12-22T08:34:22.129Z 3 10\n",
      "聽到吃飯的反應 2020-12-22T02:53:54.453Z 1 10\n",
      "天竺鼠  黑糖結紮記 2020-12-21T23:34:25.893Z 0 10\n",
      "想問有關貓咪三合一疫苗的問題 2020-12-22T12:39:42.411Z 5 8\n",
      "#求助 幼貓拉稀 什麼方法都沒用 2020-12-22T07:09:15.820Z 17 8\n",
      "#求解 #魚缸裡的蟲 2020-12-22T15:59:44.287Z 3 6\n",
      "貓咪半夜跑跳吵到樓下 2020-12-22T03:33:21.402Z 5 6\n",
      "有沒有推薦的空氣清淨機？ 2020-12-22T16:49:56.512Z 1 5\n"
     ]
    }
   ],
   "source": [
    "# 2. 取出每一筆資料的「標題」、「貼文時間」、「留言人數」、「按讚人數」\n",
    "\n",
    "for post in posts:\n",
    "    print(post['title'], post['createdAt'], post['commentCount'], post['likeCount'])"
   ]
  },
  {
   "cell_type": "code",
   "execution_count": 3,
   "metadata": {},
   "outputs": [
    {
     "name": "stdout",
     "output_type": "stream",
     "text": [
      "7.6 101.46666666666667\n",
      "3.7 27.8\n"
     ]
    }
   ],
   "source": [
    "# 3. 計算熱門/非熱門文章的「平均留言人數」與「平均按讚人數」\n",
    "\n",
    "commentCountTotal = 0\n",
    "likeCountTotal = 0\n",
    "for post in posts:\n",
    "    commentCountTotal += int(post['commentCount'])\n",
    "    likeCountTotal += int(post['likeCount'])\n",
    "\n",
    "print(commentCountTotal / len(posts), likeCountTotal / len(posts))\n",
    "\n",
    "r = requests.get('https://www.dcard.tw/_api/forums/pet/posts?popular=false')\n",
    "posts = json.loads(r.text)\n",
    "\n",
    "commentCountTotal = 0\n",
    "likeCountTotal = 0\n",
    "for post in posts:\n",
    "    commentCountTotal += int(post['commentCount'])\n",
    "    likeCountTotal += int(post['likeCount'])\n",
    "\n",
    "print(commentCountTotal / len(posts), likeCountTotal / len(posts))"
   ]
  },
  {
   "cell_type": "code",
   "execution_count": null,
   "metadata": {},
   "outputs": [],
   "source": []
  }
 ],
 "metadata": {
  "kernelspec": {
   "display_name": "Python 3",
   "language": "python",
   "name": "python3"
  },
  "language_info": {
   "codemirror_mode": {
    "name": "ipython",
    "version": 3
   },
   "file_extension": ".py",
   "mimetype": "text/x-python",
   "name": "python",
   "nbconvert_exporter": "python",
   "pygments_lexer": "ipython3",
   "version": "3.9.0"
  }
 },
 "nbformat": 4,
 "nbformat_minor": 2
}
